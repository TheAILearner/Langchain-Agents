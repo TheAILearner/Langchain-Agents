{
 "cells": [
  {
   "cell_type": "markdown",
   "metadata": {},
   "source": [
    "<figure>\n",
    "<img src=\"langchain_memory.png\">\n",
    "  <center><figcaption style=\"font-size:0.7em;\">(https://python.langchain.com/v0.1/docs/modules/memory/)</figcaption></center>\n",
    "</figure>"
   ]
  },
  {
   "cell_type": "markdown",
   "metadata": {},
   "source": [
    "1. Import LLM\n",
    "2. Bind LLM with Tool\n",
    "3. Prompt template with history\n",
    "4. Agent\n",
    "5. Automated History Management With Sessions\n",
    "6. Gradio UI\n",
    "7. Persistent Memory"
   ]
  },
  {
   "cell_type": "markdown",
   "metadata": {},
   "source": [
    "Chat Model"
   ]
  },
  {
   "cell_type": "code",
   "execution_count": null,
   "metadata": {},
   "outputs": [],
   "source": [
    "!pip install langchain-openai"
   ]
  },
  {
   "cell_type": "code",
   "execution_count": 1,
   "metadata": {},
   "outputs": [],
   "source": [
    "from langchain_openai import ChatOpenAI\n",
    "import os"
   ]
  },
  {
   "cell_type": "code",
   "execution_count": 2,
   "metadata": {},
   "outputs": [],
   "source": [
    "llm = ChatOpenAI(model=\"gpt-3.5-turbo-0125\",\n",
    "                  api_key = os.environ.get(\"OPENAI_API_KEY\"))"
   ]
  },
  {
   "cell_type": "code",
   "execution_count": 3,
   "metadata": {},
   "outputs": [
    {
     "data": {
      "text/plain": [
       "AIMessage(content='Hello! How can I assist you today?', response_metadata={'token_usage': {'completion_tokens': 9, 'prompt_tokens': 8, 'total_tokens': 17}, 'model_name': 'gpt-3.5-turbo-0125', 'system_fingerprint': None, 'finish_reason': 'stop', 'logprobs': None}, id='run-ca11243d-2cd1-486b-8efa-ee99153d6f02-0', usage_metadata={'input_tokens': 8, 'output_tokens': 9, 'total_tokens': 17})"
      ]
     },
     "execution_count": 3,
     "metadata": {},
     "output_type": "execute_result"
    }
   ],
   "source": [
    "llm.invoke(\"Hi\")"
   ]
  },
  {
   "cell_type": "markdown",
   "metadata": {},
   "source": [
    "Bind a tool with LLM"
   ]
  },
  {
   "cell_type": "code",
   "execution_count": null,
   "metadata": {},
   "outputs": [],
   "source": [
    "!pip install wikipedia"
   ]
  },
  {
   "cell_type": "code",
   "execution_count": 4,
   "metadata": {},
   "outputs": [],
   "source": [
    "from langchain.tools import WikipediaQueryRun\n",
    "from langchain_community.utilities import WikipediaAPIWrapper\n",
    "\n",
    "wikipedia = WikipediaQueryRun(api_wrapper=WikipediaAPIWrapper())"
   ]
  },
  {
   "cell_type": "code",
   "execution_count": 5,
   "metadata": {},
   "outputs": [
    {
     "data": {
      "text/plain": [
       "\"Page: President of India\\nSummary: The president of India (IAST: Bhārat kē Rāṣṭrapati) is the head of state of the Republic of India. The president is the nominal head of the executive, the first citizen of the country, as well as the supreme commander of the Indian Armed Forces. Droupadi Murmu is the 15th and current president, having taken office from 25 July 2022.\\nThe office of president was created when India became a republic on 26 January 1950 when its constitution came into force. The president is indirectly elected by an electoral college comprising both houses of the Parliament of India and the legislative assemblies of each of India's states and territories, who themselves are all directly elected by the citizens.\\nArticle 53 of the Constitution of India states that the president can exercise their powers directly or by subordinate authority, though all of the executive powers vested in the president are, in practice, exercised by the prime minister heading the Council of Ministers. The president is bound by the constitution to act on the advice of the council and to enforce the decrees passed by the Supreme Court under article 142.\\n\\n\\n\\nPage: List of presidents of India\\nSummary: The president of India is the head of state of the Republic of India and the Supreme Commander of the Indian Armed Forces. The president is referred to as the first citizen of India. Although vested with these powers by the Constitution of India, the position is largely a ceremonial one and executive powers are de facto exercised by the prime minister.\\nThe president is elected by the Electoral College composed of elected members of the parliament houses, the Lok Sabha and the Rajya Sabha, and also members of the Saasana Sabha or Vidhan Sabha, the state legislative assemblies. Presidents may remain in office for a tenure of five years, as stated by article 56, part V, of the Constitution of India. In the case where a president's term of office is terminated early or during the absence of the president, the vice president assumes office. By article 70 of part V, the parliament may decide how to discharge the functions of the president where this is not possible, or in any other unexpected contingency.\\nThere have been 15 presidents of India since the post was established when India was declared as a republic with the adoption of the Indian constitution in 1950. Apart from these fifteen, three acting presidents have also been in office for short periods of time. Varahagiri Venkata Giri became the acting president in 1969 after Zakir Husain died in office. Giri was elected president a few months later. He remains the only person to have held office both as a president and acting president. Rajendra Prasad, the first president of India, is the only person to have held office for two terms.\\nSeven presidents have been members of a political party before being elected. Six of these were active party members of the Indian National Congress. The Janata Party has had one member, Neelam Sanjiva Reddy, who later became president. Two presidents, Zakir Husain and Fakhruddin Ali Ahmed, have died in office. Their vice presidents served as acting presidents until a new president was elected. Following Zakir Husain's death, two acting presidents held office until the new president, Varahagiri Venkata Giri, was elected. When Giri resigned to take part in the presidential elections, he was succeeded by M. Hidayatullah as acting president. The 12th president, Pratibha Devisingh Patil, is the first woman to hold the office, elected in 2007.\\nOn 25 July 2022, Droupadi Murmu took office as the 15th president of India, becoming the second woman and the first tribal person to hold the office.\\n\\n\\n\\nPage: Vice President of India\\nSummary: The vice president of India (IAST: Bhārat kē Uparāṣṭrapati) is the deputy to the head of state of the Republic of India, i.e. the president of India. The office of vice president is the second-highest constitutional office after the president \""
      ]
     },
     "execution_count": 5,
     "metadata": {},
     "output_type": "execute_result"
    }
   ],
   "source": [
    "wikipedia.run(\"President of India\")"
   ]
  },
  {
   "cell_type": "code",
   "execution_count": 6,
   "metadata": {},
   "outputs": [],
   "source": [
    "tools = [wikipedia]\n",
    "llm_with_tools = llm.bind_tools(tools)"
   ]
  },
  {
   "cell_type": "markdown",
   "metadata": {},
   "source": [
    "Create Prompt Template with History"
   ]
  },
  {
   "cell_type": "code",
   "execution_count": 7,
   "metadata": {},
   "outputs": [],
   "source": [
    "from langchain_core.prompts import ChatPromptTemplate, MessagesPlaceholder\n",
    "\n",
    "prompt = ChatPromptTemplate.from_messages(\n",
    "    [\n",
    "        (\n",
    "            \"system\",\n",
    "            \"You are a helpful assistant. Answer all questions to the best of your ability.\",\n",
    "        ),\n",
    "        MessagesPlaceholder(variable_name=\"chat_history\"),\n",
    "        (\"human\", \"{input}\"),\n",
    "        MessagesPlaceholder(variable_name=\"agent_scratchpad\"),\n",
    "    ]\n",
    ")"
   ]
  },
  {
   "cell_type": "markdown",
   "metadata": {},
   "source": [
    "Create Agent"
   ]
  },
  {
   "cell_type": "code",
   "execution_count": 8,
   "metadata": {},
   "outputs": [],
   "source": [
    "from langchain.agents.output_parsers.openai_tools import OpenAIToolsAgentOutputParser\n",
    "from langchain.agents.format_scratchpad.openai_tools import format_to_openai_tool_messages"
   ]
  },
  {
   "cell_type": "code",
   "execution_count": 9,
   "metadata": {},
   "outputs": [],
   "source": [
    "agent = (\n",
    "    {\n",
    "        \"input\": lambda x: x[\"input\"],\n",
    "        \"agent_scratchpad\": lambda x: format_to_openai_tool_messages(\n",
    "            x[\"intermediate_steps\"]\n",
    "        ),\n",
    "        \"chat_history\": lambda x: x[\"chat_history\"],\n",
    "    }\n",
    "    | prompt | llm_with_tools | OpenAIToolsAgentOutputParser() )"
   ]
  },
  {
   "cell_type": "code",
   "execution_count": 10,
   "metadata": {},
   "outputs": [],
   "source": [
    "from langchain.agents import AgentExecutor\n",
    "\n",
    "agent_executor = AgentExecutor(agent=agent, tools=tools, verbose=True)"
   ]
  },
  {
   "cell_type": "markdown",
   "metadata": {},
   "source": [
    "Chat with History"
   ]
  },
  {
   "cell_type": "code",
   "execution_count": 11,
   "metadata": {},
   "outputs": [],
   "source": [
    "from langchain.memory import ChatMessageHistory\n",
    "chat_history = ChatMessageHistory()"
   ]
  },
  {
   "cell_type": "code",
   "execution_count": 12,
   "metadata": {},
   "outputs": [
    {
     "name": "stdout",
     "output_type": "stream",
     "text": [
      "\n",
      "\n",
      "\u001b[1m> Entering new AgentExecutor chain...\u001b[0m\n",
      "\u001b[32;1m\u001b[1;3m\n",
      "Invoking: `wikipedia` with `{'query': 'FIFA 2018 World Cup'}`\n",
      "\n",
      "\n",
      "\u001b[0m\u001b[36;1m\u001b[1;3mPage: 2018 FIFA World Cup\n",
      "Summary: The 2018 FIFA World Cup was the 21st FIFA World Cup, the quadrennial world championship for national football teams organized by FIFA. It took place in Russia from 14 June to 15 July 2018, after the country was awarded the hosting rights in late 2010. It was the eleventh time the championships had been held in Europe, the first time they were held in Eastern Europe, and the first time they were held across two continents (Europe and Asia). At an estimated cost of over $14.2 billion, it was the most expensive World Cup ever held until it was surpassed by the 2022 World Cup in Qatar.\n",
      "The tournament phase involved 32 teams, of which 31 came through qualifying competitions, while the host nation Russia qualified automatically. Of the 32, 20 had also appeared in the 2014 event, while Iceland and Panama each made their debut at the World Cup. 64 matches were played in 12 venues across 11 cities. Germany, the defending champions, were eliminated in the group stage for the first time since 1938. Host nation  Russia was eliminated in the quarter-finals. In the final, France played Croatia on 15 July at the Luzhniki Stadium in Moscow. France won the match 4–2, claiming their second World Cup and becoming the fourth consecutive title won by a European team, after Italy in 2006, Spain in 2010, and Germany in 2014.\n",
      "Croatian player Luka Modrić was voted the tournament's best player, winning the Golden Ball. England's Harry Kane won the Golden Boot as he scored the most goals during the tournament with six. Belgium's Thibaut Courtois won the Golden Glove, awarded to the goalkeeper with the best performance. It has been estimated that more than 3 million people attended games during the tournament.\n",
      "\n",
      "\n",
      "\n",
      "Page: 2018 FIFA World Cup qualification\n",
      "Summary: The 2018 FIFA World Cup qualification process was a series of tournaments organised by the six FIFA confederations to decide 31 of the 32 teams which would play in the 2018 FIFA World Cup, with Russia qualifying automatically as hosts. All 210 remaining FIFA member associations were eligible to enter the qualifying process, and for the first time in World Cup history, all eligible national teams registered for the preliminary competition, but Zimbabwe and Indonesia were disqualified before playing their first matches. Bhutan, South Sudan, Gibraltar and Kosovo made their FIFA World Cup qualification debuts, while Myanmar participated after successfully appealing against a ban from the competition, although the team was obliged to play its home matches outside the country.\n",
      "While the main qualifying draw took place at the Konstantinovsky Palace in Strelna, Saint Petersburg, on 25 July 2015, qualification matches were played before that. The first, between Timor-Leste and Mongolia, began in Dili on 12 March 2015 as part of the AFC's qualification, with East Timorese player Chiquito do Carmo scoring the first goal in qualification. Matches were also played in CONCACAF prior to the main draw.\n",
      "\n",
      "Page: 2018 FIFA World Cup squads\n",
      "Summary: The 2018 FIFA World Cup was an international football tournament held in Russia from 14 June to 15 July 2018. The 32 national teams involved in the tournament were required to register a squad of 23 players, including three goalkeepers. Only players in these squads were eligible to take part in the tournament.\n",
      "A provisional list of 35 players per national team was submitted to FIFA by 14 May 2018, one month prior to the opening match of the tournament. From the preliminary squad, the final list of 23 players per national team was submitted to FIFA by 4 June, 10 days prior to the opening match of the tournament. FIFA published the final lists with squad numbers on their website the same day. Teams were permitted to make late replacements in the event of serious injury, at any time up to 24 hours before their first match, where the replacement players did not need to be in the preliminary squad.\n",
      "For players named in the 35-player preliminar\u001b[0m\u001b[32;1m\u001b[1;3mFrance won the FIFA 2018 World Cup by defeating Croatia in the final match with a score of 4-2. This victory marked France's second World Cup title.\u001b[0m\n",
      "\n",
      "\u001b[1m> Finished chain.\u001b[0m\n"
     ]
    }
   ],
   "source": [
    "query = \"Who won fifa 2018 world cup?\"\n",
    "\n",
    "response = agent_executor.invoke( {\"input\": query, \"chat_history\" : chat_history.messages})"
   ]
  },
  {
   "cell_type": "code",
   "execution_count": 13,
   "metadata": {},
   "outputs": [
    {
     "name": "stdout",
     "output_type": "stream",
     "text": [
      "Human: Who won fifa 2018 world cup?\n",
      "AI: France won the FIFA 2018 World Cup by defeating Croatia in the final match with a score of 4-2. This victory marked France's second World Cup title.\n"
     ]
    }
   ],
   "source": [
    "chat_history.add_user_message(query)\n",
    "chat_history.add_ai_message(response['output'])\n",
    "print(chat_history)"
   ]
  },
  {
   "cell_type": "code",
   "execution_count": 14,
   "metadata": {},
   "outputs": [
    {
     "name": "stdout",
     "output_type": "stream",
     "text": [
      "\n",
      "\n",
      "\u001b[1m> Entering new AgentExecutor chain...\u001b[0m\n",
      "\u001b[32;1m\u001b[1;3mCroatia defeated England in the semi-finals of the FIFA 2018 World Cup. They won the match 2-1 after extra time to secure their spot in the final against France.\u001b[0m\n",
      "\n",
      "\u001b[1m> Finished chain.\u001b[0m\n",
      "Croatia defeated England in the semi-finals of the FIFA 2018 World Cup. They won the match 2-1 after extra time to secure their spot in the final against France.\n"
     ]
    }
   ],
   "source": [
    "query = \"And which team croatia defeated in semis?\"\n",
    "response = agent_executor.invoke( {\"input\": query, \"chat_history\" : chat_history.messages})\n",
    "print(response['output'])"
   ]
  },
  {
   "cell_type": "markdown",
   "metadata": {},
   "source": [
    "Automated History Management With Sessions"
   ]
  },
  {
   "cell_type": "code",
   "execution_count": 15,
   "metadata": {},
   "outputs": [],
   "source": [
    "store = {}\n",
    "last_k_messages = 4\n",
    "\n",
    "def get_session_history(session_id):\n",
    "    if session_id not in store:\n",
    "        store[session_id] = ChatMessageHistory()\n",
    "\n",
    "    stored_messages = store[session_id].messages\n",
    "    if len(stored_messages) >= 4:\n",
    "        store[session_id].clear()\n",
    "\n",
    "    for message in stored_messages[-last_k_messages:]:\n",
    "        store[session_id].add_message(message)\n",
    "\n",
    "\n",
    "    return store[session_id]"
   ]
  },
  {
   "cell_type": "code",
   "execution_count": 16,
   "metadata": {},
   "outputs": [],
   "source": [
    "from langchain_core.runnables.history import RunnableWithMessageHistory"
   ]
  },
  {
   "cell_type": "code",
   "execution_count": 17,
   "metadata": {},
   "outputs": [],
   "source": [
    "chain_with_message_history = RunnableWithMessageHistory(\n",
    "    agent_executor,\n",
    "    get_session_history,\n",
    "    input_messages_key=\"input\",\n",
    "    history_messages_key=\"chat_history\",\n",
    ")"
   ]
  },
  {
   "cell_type": "code",
   "execution_count": 18,
   "metadata": {},
   "outputs": [
    {
     "name": "stderr",
     "output_type": "stream",
     "text": [
      "Parent run ed8d7028-d966-48de-912e-c3f5583d938f not found for run 693c8802-dba6-4dd0-b18c-27c06da043ce. Treating as a root run.\n"
     ]
    },
    {
     "name": "stdout",
     "output_type": "stream",
     "text": [
      "\n",
      "\n",
      "\u001b[1m> Entering new AgentExecutor chain...\u001b[0m\n",
      "\u001b[32;1m\u001b[1;3mHello! How can I assist you today?\u001b[0m\n",
      "\n",
      "\u001b[1m> Finished chain.\u001b[0m\n",
      "{'input': 'hi', 'chat_history': [], 'output': 'Hello! How can I assist you today?'}\n"
     ]
    }
   ],
   "source": [
    "response = chain_with_message_history.invoke(\n",
    "                                        {\"input\": \"hi\"},\n",
    "                                        {\"configurable\": {\"session_id\": \"123\"}},\n",
    "                                        )\n",
    "\n",
    "print(response)"
   ]
  },
  {
   "cell_type": "code",
   "execution_count": 19,
   "metadata": {},
   "outputs": [],
   "source": [
    "import logging\n",
    "logging.getLogger().setLevel(logging.ERROR)"
   ]
  },
  {
   "cell_type": "markdown",
   "metadata": {},
   "source": [
    "Showcase in UI"
   ]
  },
  {
   "cell_type": "code",
   "execution_count": 20,
   "metadata": {},
   "outputs": [
    {
     "name": "stdout",
     "output_type": "stream",
     "text": [
      "Running on local URL:  http://127.0.0.1:7860\n",
      "\n",
      "To create a public link, set `share=True` in `launch()`.\n"
     ]
    },
    {
     "data": {
      "text/html": [
       "<div><iframe src=\"http://127.0.0.1:7860/\" width=\"100%\" height=\"500\" allow=\"autoplay; camera; microphone; clipboard-read; clipboard-write;\" frameborder=\"0\" allowfullscreen></iframe></div>"
      ],
      "text/plain": [
       "<IPython.core.display.HTML object>"
      ]
     },
     "metadata": {},
     "output_type": "display_data"
    },
    {
     "data": {
      "text/plain": []
     },
     "execution_count": 20,
     "metadata": {},
     "output_type": "execute_result"
    },
    {
     "name": "stdout",
     "output_type": "stream",
     "text": [
      "Session ID:  e87137dab46e401bb0dede32deae9462\n",
      "\n",
      "\n",
      "\u001b[1m> Entering new AgentExecutor chain...\u001b[0m\n",
      "\u001b[32;1m\u001b[1;3m\n",
      "Invoking: `wikipedia` with `{'query': '2018 FIFA World Cup'}`\n",
      "\n",
      "\n",
      "\u001b[0m\u001b[36;1m\u001b[1;3mPage: 2018 FIFA World Cup\n",
      "Summary: The 2018 FIFA World Cup was the 21st FIFA World Cup, the quadrennial world championship for national football teams organized by FIFA. It took place in Russia from 14 June to 15 July 2018, after the country was awarded the hosting rights in late 2010. It was the eleventh time the championships had been held in Europe, the first time they were held in Eastern Europe, and the first time they were held across two continents (Europe and Asia). At an estimated cost of over $14.2 billion, it was the most expensive World Cup ever held until it was surpassed by the 2022 World Cup in Qatar.\n",
      "The tournament phase involved 32 teams, of which 31 came through qualifying competitions, while the host nation Russia qualified automatically. Of the 32, 20 had also appeared in the 2014 event, while Iceland and Panama each made their debut at the World Cup. 64 matches were played in 12 venues across 11 cities. Germany, the defending champions, were eliminated in the group stage for the first time since 1938. Host nation  Russia was eliminated in the quarter-finals. In the final, France played Croatia on 15 July at the Luzhniki Stadium in Moscow. France won the match 4–2, claiming their second World Cup and becoming the fourth consecutive title won by a European team, after Italy in 2006, Spain in 2010, and Germany in 2014.\n",
      "Croatian player Luka Modrić was voted the tournament's best player, winning the Golden Ball. England's Harry Kane won the Golden Boot as he scored the most goals during the tournament with six. Belgium's Thibaut Courtois won the Golden Glove, awarded to the goalkeeper with the best performance. It has been estimated that more than 3 million people attended games during the tournament.\n",
      "\n",
      "\n",
      "\n",
      "Page: 2018 FIFA World Cup final\n",
      "Summary: The 2018 FIFA World Cup final was the final match of the 2018 World Cup, the 21st edition of FIFA's competition for national football teams. The match was played at the Luzhniki Stadium in Moscow, Russia, on 15 July 2018, and was contested by France and Croatia. The tournament comprised hosts Russia and 31 other teams who emerged from the qualification phase, organised by the six FIFA confederations. The 32 teams competed in a group stage, from which 16 teams qualified for the knockout stage. En route to the final, France finished first in Group C, with two wins and a draw, after which they defeated Argentina in the round of 16, Uruguay in the quarter-final and Belgium in the semi-final. Croatia finished first in Group D with three wins, before defeating Denmark in the round of 16 and Russia in the quarter-final – both through a penalty shoot-out – and then England in the semi-final. The final took place in front of 78,011 supporters, with more than 1.1 billion watching on television, and was refereed by Néstor Pitana from Argentina.\n",
      "France took the lead through a controversial free kick that led to an own goal by Mario Mandžukić in the 18th minute – the first ever own goal in a World Cup final – before Ivan Perišić equalised 10 minutes later with a low shot into the corner of the goal. Shortly afterwards, France were awarded a penalty when Pitana ruled that Perišić had deliberately handled the ball. The decision resulted from a consultation with the video assistant referee, which was in use for the first time in a World Cup at the 2018 tournament. The decision was criticised by some pundits such as Alan Shearer, who labelled it \"ridiculous\", while others such as Chris Waddle thought it was correct. Antoine Griezmann scored to give France a 2–1 half-time lead. They extended that lead in the 59th minute, when Paul Pogba scored at the second attempt after Croatia goalkeeper Danijel Subašić had saved his initial shot. Kylian Mbappé scored from outside the penalty area to make it 4–1, becoming only the second teenager to score in a World Cup final after Pelé in 1958, before Mandžukić capitalized on a Hugo Lloris error to score a second for Croatia, giving a final score of 4–\u001b[0m\u001b[32;1m\u001b[1;3mThe team that won the 2018 FIFA World Cup was France. They defeated Croatia in the final match with a score of 4-2, claiming their second World Cup victory.\u001b[0m\n",
      "\n",
      "\u001b[1m> Finished chain.\u001b[0m\n",
      "Session ID:  e87137dab46e401bb0dede32deae9462\n",
      "\n",
      "\n",
      "\u001b[1m> Entering new AgentExecutor chain...\u001b[0m\n",
      "\u001b[32;1m\u001b[1;3mYour name is Atul.\u001b[0m\n",
      "\n",
      "\u001b[1m> Finished chain.\u001b[0m\n",
      "Session ID:  cd6469c9e9c045899b9c2cedde8e3330\n",
      "\n",
      "\n",
      "\u001b[1m> Entering new AgentExecutor chain...\u001b[0m\n",
      "\u001b[32;1m\u001b[1;3mI'm sorry, but I don't have access to your personal information such as your name. Is there anything else you would like to know or discuss?\u001b[0m\n",
      "\n",
      "\u001b[1m> Finished chain.\u001b[0m\n"
     ]
    }
   ],
   "source": [
    "import gradio as gr\n",
    "import uuid\n",
    "\n",
    "\n",
    "with gr.Blocks() as demo:\n",
    "    \n",
    "    state = gr.State(\"\")\n",
    "    chatbot = gr.Chatbot()\n",
    "    msg = gr.Textbox()\n",
    "    clear = gr.ClearButton([msg, chatbot])\n",
    "\n",
    "\n",
    "    def respond(message, chatbot_history, session_id):\n",
    "        if not chatbot_history:\n",
    "            session_id = uuid.uuid4().hex\n",
    "\n",
    "        print(\"Session ID: \", session_id)\n",
    "\n",
    "        response = chain_with_message_history.invoke(\n",
    "                                        {\"input\": message},\n",
    "                                        {\"configurable\": {\"session_id\": session_id}},\n",
    "                                        )\n",
    "\n",
    "        chatbot_history.append((message, response['output']))\n",
    "        return \"\", chatbot_history, session_id\n",
    "\n",
    "    msg.submit(respond, [msg, chatbot, state], [msg, chatbot, state])\n",
    "\n",
    "demo.launch()\n"
   ]
  },
  {
   "cell_type": "markdown",
   "metadata": {},
   "source": [
    "Persistent memory"
   ]
  },
  {
   "cell_type": "code",
   "execution_count": 23,
   "metadata": {},
   "outputs": [],
   "source": [
    "from langchain_community.chat_message_histories import SQLChatMessageHistory"
   ]
  },
  {
   "cell_type": "code",
   "execution_count": 24,
   "metadata": {},
   "outputs": [],
   "source": [
    "chat_message_history = SQLChatMessageHistory(\n",
    "    session_id=\"test_session\", connection = \"sqlite:///memory.db\"\n",
    ")"
   ]
  },
  {
   "cell_type": "code",
   "execution_count": 25,
   "metadata": {},
   "outputs": [],
   "source": [
    "from sqlite3 import connect\n",
    "con = connect('memory.db')"
   ]
  },
  {
   "cell_type": "code",
   "execution_count": 26,
   "metadata": {},
   "outputs": [
    {
     "name": "stdout",
     "output_type": "stream",
     "text": [
      "[]\n"
     ]
    }
   ],
   "source": [
    "curr = con.execute(\"SELECT * from message_store;\")\n",
    "print(curr.fetchall())"
   ]
  },
  {
   "cell_type": "code",
   "execution_count": 27,
   "metadata": {},
   "outputs": [],
   "source": [
    "chat_message_history.add_user_message(\"Hello\")\n",
    "chat_message_history.add_ai_message(\"Hi\")"
   ]
  },
  {
   "cell_type": "code",
   "execution_count": 28,
   "metadata": {},
   "outputs": [
    {
     "name": "stdout",
     "output_type": "stream",
     "text": [
      "[(1, 'test_session', '{\"type\": \"human\", \"data\": {\"content\": \"Hello\", \"additional_kwargs\": {}, \"response_metadata\": {}, \"type\": \"human\", \"name\": null, \"id\": null, \"example\": false}}'), (2, 'test_session', '{\"type\": \"ai\", \"data\": {\"content\": \"Hi\", \"additional_kwargs\": {}, \"response_metadata\": {}, \"type\": \"ai\", \"name\": null, \"id\": null, \"example\": false, \"tool_calls\": [], \"invalid_tool_calls\": [], \"usage_metadata\": null}}')]\n"
     ]
    }
   ],
   "source": [
    "curr = con.execute(\"SELECT * from message_store;\")\n",
    "print(curr.fetchall())"
   ]
  },
  {
   "cell_type": "code",
   "execution_count": 29,
   "metadata": {},
   "outputs": [],
   "source": [
    "last_k_messages = 4\n",
    "\n",
    "\n",
    "def get_session_history(session_id):\n",
    "    chat_message_history = SQLChatMessageHistory(\n",
    "    session_id=session_id, connection = \"sqlite:///memory.db\"\n",
    "    )\n",
    "\n",
    "    messages = chat_message_history.get_messages()\n",
    "    chat_message_history.clear()\n",
    "    \n",
    "    for message in messages[-last_k_messages:]:\n",
    "        chat_message_history.add_message(message)\n",
    "    \n",
    "    return chat_message_history\n",
    "\n",
    "\n",
    "chain_with_history = RunnableWithMessageHistory(\n",
    "    agent_executor,\n",
    "    get_session_history,\n",
    "    input_messages_key=\"input\",\n",
    "    history_messages_key=\"chat_history\",\n",
    ")"
   ]
  },
  {
   "cell_type": "code",
   "execution_count": 30,
   "metadata": {},
   "outputs": [
    {
     "name": "stdout",
     "output_type": "stream",
     "text": [
      "\n",
      "\n",
      "\u001b[1m> Entering new AgentExecutor chain...\u001b[0m\n",
      "\u001b[32;1m\u001b[1;3mHello! How can I assist you today?\u001b[0m\n",
      "\n",
      "\u001b[1m> Finished chain.\u001b[0m\n"
     ]
    }
   ],
   "source": [
    "query = \"hi\"\n",
    "response = chain_with_history.invoke(\n",
    "                                        {\"input\": query},\n",
    "                                        {\"configurable\": {\"session_id\": \"123\"}},\n",
    "                                        )"
   ]
  },
  {
   "cell_type": "code",
   "execution_count": 31,
   "metadata": {},
   "outputs": [
    {
     "name": "stdout",
     "output_type": "stream",
     "text": [
      "[(1, 'test_session', '{\"type\": \"human\", \"data\": {\"content\": \"Hello\", \"additional_kwargs\": {}, \"response_metadata\": {}, \"type\": \"human\", \"name\": null, \"id\": null, \"example\": false}}'), (2, 'test_session', '{\"type\": \"ai\", \"data\": {\"content\": \"Hi\", \"additional_kwargs\": {}, \"response_metadata\": {}, \"type\": \"ai\", \"name\": null, \"id\": null, \"example\": false, \"tool_calls\": [], \"invalid_tool_calls\": [], \"usage_metadata\": null}}'), (3, '123', '{\"type\": \"human\", \"data\": {\"content\": \"hi\", \"additional_kwargs\": {}, \"response_metadata\": {}, \"type\": \"human\", \"name\": null, \"id\": null, \"example\": false}}'), (4, '123', '{\"type\": \"ai\", \"data\": {\"content\": \"Hello! How can I assist you today?\", \"additional_kwargs\": {}, \"response_metadata\": {}, \"type\": \"ai\", \"name\": null, \"id\": null, \"example\": false, \"tool_calls\": [], \"invalid_tool_calls\": [], \"usage_metadata\": null}}')]\n"
     ]
    }
   ],
   "source": [
    "curr = con.execute(\"SELECT * from message_store;\")\n",
    "print(curr.fetchall())"
   ]
  },
  {
   "cell_type": "code",
   "execution_count": null,
   "metadata": {},
   "outputs": [],
   "source": []
  }
 ],
 "metadata": {
  "kernelspec": {
   "display_name": "Python 3",
   "language": "python",
   "name": "python3"
  },
  "language_info": {
   "codemirror_mode": {
    "name": "ipython",
    "version": 3
   },
   "file_extension": ".py",
   "mimetype": "text/x-python",
   "name": "python",
   "nbconvert_exporter": "python",
   "pygments_lexer": "ipython3",
   "version": "3.12.3"
  }
 },
 "nbformat": 4,
 "nbformat_minor": 2
}
