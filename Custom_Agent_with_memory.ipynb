{
 "cells": [
  {
   "cell_type": "markdown",
   "id": "7f183af7",
   "metadata": {},
   "source": [
    "1. Import LLM\n",
    "2. Import tool\n",
    "3. Bind to LLM\n",
    "4. Prompt template\n",
    "5. custom agent with memory \n",
    "6. Showcase in gradio"
   ]
  },
  {
   "cell_type": "markdown",
   "id": "d328185c",
   "metadata": {},
   "source": [
    "Import LLM"
   ]
  },
  {
   "cell_type": "code",
   "execution_count": 1,
   "id": "1c3e2397-33d9-4c86-90ba-211464cac579",
   "metadata": {},
   "outputs": [],
   "source": [
    "from langchain_openai import ChatOpenAI\n",
    "import os\n",
    "\n",
    "llm = ChatOpenAI(model=\"gpt-3.5-turbo\", \n",
    "                 temperature=0, \n",
    "                 openai_api_key=os.environ.get(\"OPENAI_API_KEY\"))"
   ]
  },
  {
   "cell_type": "markdown",
   "id": "345d8e03",
   "metadata": {},
   "source": [
    "Import Tool"
   ]
  },
  {
   "cell_type": "code",
   "execution_count": 2,
   "id": "45f75d44-4dcd-4f5d-91bd-1a85b4032afa",
   "metadata": {},
   "outputs": [],
   "source": [
    "from langchain.tools import WikipediaQueryRun\n",
    "from langchain_community.utilities import WikipediaAPIWrapper"
   ]
  },
  {
   "cell_type": "code",
   "execution_count": 3,
   "id": "eb584ef6-a4f2-4985-8fc9-58befe34c1ce",
   "metadata": {},
   "outputs": [],
   "source": [
    "wikipedia = WikipediaQueryRun(api_wrapper=WikipediaAPIWrapper())"
   ]
  },
  {
   "cell_type": "code",
   "execution_count": 4,
   "id": "6a8fc97e-ce1e-40a6-b764-6afcfd172f28",
   "metadata": {},
   "outputs": [
    {
     "data": {
      "text/plain": [
       "\"Page: La Liga records and statistics\\nSummary: The La Liga is a Spanish professional league for association football club. At the top of the Spanish football league system, it is the country's primary football competition and is contested by 20 clubs. The competition was formed in 1929, with an initial format of 10 teams.\\n\\nPage: List of La Liga top scorers\\nSummary: La Liga all-time top scorer is Lionel Messi with 474 goals, all for Barcelona. He also holds the record for most goals scored in a single season with 50 in the 2011–12 campaign, and is the only player ever to win the league's top scorer award in eight different seasons. Athletic Bilbao's Telmo Zarra, who was the competition's all-time top scorer for sixty years until 2014, won the top scorer award six times. Three other players — Real Madrid's Alfredo Di Stéfano, Quini of Sporting Gijón and Barcelona, and Hugo Sánchez of Atlético Madrid and Real Madrid — each finished as top scorer in five individual seasons. \\nAlfredo Di Stéfano was the first non-European player to score a hundred La Liga goals, though he was a naturalised Spanish citizen by the time he reached the milestone in 1957. Hugo Sánchez became the first North American in 1986 and Samuel Eto'o was the first African to score 100 La Liga goals in 2006.\\nThe most recent player to score 100 goals in the league is Gerard Moreno, who scored his centennial goal in January 2022. Of active players, Cristhian Stuani is closest to making this list, having scored 99 La Liga goals.\\n\\nPage: List of Real Madrid CF players\\nSummary: Real Madrid Club de Fútbol is a professional association football club based in Madrid, Spain , that plays in La Liga. The club was formed in 1902 as Madrid Football Club and played its first competitive match on 13 May 1902 when it entered the final of the Campeonato de Copa de S.M. Alfonso XIII. Real Madrid was one of the founding members of La Liga in 1929, and is one of three clubs, along with FC Barcelona and Athletic Bilbao, to have never been relegated from the league. Since then, the club's first team has competed in numerous nationally and internationally organized competitions. Real is the most successful club in Spanish football, having won 71 domestic titles; a record 36 La Liga titles, 20 Spanish Cups, 13 Spanish Super Cups, 1 Copa Eva Duarte, and 1 League Cup. Real is the most successful club in European and international football, having won 29 official UEFA and FIFA trophies in total.\\nRaúl holds the record for most overall appearances, having played 741 from 1994 to 2010, ahead of Iker Casillas, who made 725 appearances from 1999 to 2015. Manuel Sanchís, Jr is third with 710 appearances from 1983 to 2001 for the club. Cristiano Ronaldo is the all-time top scorer with 450 goals in 438 appearances from 2009 to 2018. He holds the record for the most goals in a season for Real Madrid, Ronaldo scored 61 in all competitions during the 2014–15 season and also holds the record for second most league goals scored in a season in La Liga, with 48 goals in 2014–15 La Liga. Karim Benzema is the second-highest scorer with 354 goals, having overtaken Raúl, who is third with 323 goals, in August 2022.\\nReal Madrid has employed numerous famous players, with four FIFA World Player of the Year, ten Ballon d'Or, two FIFA Ballon d'Or, four European Golden Shoe and three FIFA Club World Cup Golden Ball winners among the previous and current club players.\\nThe list includes notable footballers who have played for Real Madrid. Generally, this means players that have played at least 50 official matches. However, some players who have played fewer matches are also included if they are on Real's list of Legendary Players.\\n\\n\""
      ]
     },
     "execution_count": 4,
     "metadata": {},
     "output_type": "execute_result"
    }
   ],
   "source": [
    "wikipedia.run(\"Highest goals in a single season of La Liga\")"
   ]
  },
  {
   "cell_type": "markdown",
   "id": "24ce03dc",
   "metadata": {},
   "source": [
    "Bind Tool with LLM"
   ]
  },
  {
   "cell_type": "code",
   "execution_count": 5,
   "id": "41db903b-b666-4dfe-87f1-80e99d3fb57c",
   "metadata": {},
   "outputs": [],
   "source": [
    "tools = [wikipedia]"
   ]
  },
  {
   "cell_type": "code",
   "execution_count": 6,
   "id": "f4440281-7a38-4028-a852-dfc272b23cf0",
   "metadata": {},
   "outputs": [],
   "source": [
    "llm_with_tools = llm.bind_tools(tools)"
   ]
  },
  {
   "cell_type": "markdown",
   "id": "d58edd5d",
   "metadata": {},
   "source": [
    "Create Prompt for LLM"
   ]
  },
  {
   "cell_type": "code",
   "execution_count": 7,
   "id": "898a39fe-b687-452a-9e1a-9b6ca1a07403",
   "metadata": {},
   "outputs": [],
   "source": [
    "from langchain_core.prompts import ChatPromptTemplate, MessagesPlaceholder\n",
    "\n",
    "prompt = ChatPromptTemplate.from_messages(\n",
    "    [\n",
    "        (\n",
    "            \"system\",\n",
    "            \"You are very powerful assistant, but bad at calculating lengths of words.\",\n",
    "        ),\n",
    "        MessagesPlaceholder(variable_name=\"chat_history\"),\n",
    "        (\"user\", \"{input}\"),\n",
    "        MessagesPlaceholder(variable_name=\"agent_scratchpad\"),\n",
    "    ]\n",
    ")"
   ]
  },
  {
   "cell_type": "code",
   "execution_count": 8,
   "id": "ed2678a2",
   "metadata": {},
   "outputs": [],
   "source": [
    "from langchain_core.messages import AIMessage, HumanMessage\n",
    "\n",
    "chat_history = []"
   ]
  },
  {
   "cell_type": "markdown",
   "id": "d2981496",
   "metadata": {},
   "source": [
    "Create Custom Agent with Memory"
   ]
  },
  {
   "cell_type": "code",
   "execution_count": 9,
   "id": "be17f30a-e141-4669-8e88-ccae01cc5a20",
   "metadata": {},
   "outputs": [],
   "source": [
    "from langchain.agents.format_scratchpad.openai_tools import (\n",
    "    format_to_openai_tool_messages,\n",
    ")\n",
    "from langchain.agents.output_parsers.openai_tools import OpenAIToolsAgentOutputParser\n",
    "\n",
    "\n",
    "agent = (\n",
    "    {\n",
    "        \"input\": lambda x: x[\"input\"],\n",
    "        \"agent_scratchpad\": lambda x: format_to_openai_tool_messages(\n",
    "            x[\"intermediate_steps\"]\n",
    "        ),\n",
    "        \"chat_history\": lambda x: x[\"chat_history\"],\n",
    "    }\n",
    "    | prompt\n",
    "    | llm_with_tools\n",
    "    | OpenAIToolsAgentOutputParser()\n",
    ")"
   ]
  },
  {
   "cell_type": "code",
   "execution_count": 10,
   "id": "49b31ccd-8486-480b-94d7-978b8580ba2f",
   "metadata": {},
   "outputs": [],
   "source": [
    "from langchain.agents import AgentExecutor\n",
    "\n",
    "agent_executor = AgentExecutor(agent=agent, tools=tools, verbose=True, stream_runnable = False)"
   ]
  },
  {
   "cell_type": "code",
   "execution_count": 11,
   "id": "4be6737d-8ca1-4200-8396-cc738dc95a87",
   "metadata": {},
   "outputs": [],
   "source": [
    "from langchain.callbacks import get_openai_callback"
   ]
  },
  {
   "cell_type": "code",
   "execution_count": 12,
   "id": "a67b4d3d-d0d6-49fe-8089-e9c3af36e044",
   "metadata": {},
   "outputs": [
    {
     "name": "stdout",
     "output_type": "stream",
     "text": [
      "\n",
      "\n",
      "\u001b[1m> Entering new AgentExecutor chain...\u001b[0m\n",
      "\u001b[32;1m\u001b[1;3m\n",
      "Invoking: `wikipedia` with `La Liga highest goals in a single season`\n",
      "\n",
      "\n",
      "\u001b[0m\u001b[36;1m\u001b[1;3mPage: La Liga records and statistics\n",
      "Summary: The La Liga is a Spanish professional league for association football club. At the top of the Spanish football league system, it is the country's primary football competition and is contested by 20 clubs. The competition was formed in 1929, with an initial format of 10 teams.\n",
      "\n",
      "Page: List of La Liga top scorers\n",
      "Summary: La Liga all-time top scorer is Lionel Messi with 474 goals, all for Barcelona. He also holds the record for most goals scored in a single season with 50 in the 2011–12 campaign, and is the only player ever to win the league's top scorer award in eight different seasons. Athletic Bilbao's Telmo Zarra, who was the competition's all-time top scorer for sixty years until 2014, won the top scorer award six times. Three other players — Real Madrid's Alfredo Di Stéfano, Quini of Sporting Gijón and Barcelona, and Hugo Sánchez of Atlético Madrid and Real Madrid — each finished as top scorer in five individual seasons. \n",
      "Alfredo Di Stéfano was the first non-European player to score a hundred La Liga goals, though he was a naturalised Spanish citizen by the time he reached the milestone in 1957. Hugo Sánchez became the first North American in 1986 and Samuel Eto'o was the first African to score 100 La Liga goals in 2006.\n",
      "The most recent player to score 100 goals in the league is Gerard Moreno, who scored his centennial goal in January 2022. Of active players, Cristhian Stuani is closest to making this list, having scored 99 La Liga goals.\n",
      "\n",
      "Page: List of Real Madrid CF players\n",
      "Summary: Real Madrid Club de Fútbol is a professional association football club based in Madrid, Spain , that plays in La Liga. The club was formed in 1902 as Madrid Football Club and played its first competitive match on 13 May 1902 when it entered the final of the Campeonato de Copa de S.M. Alfonso XIII. Real Madrid was one of the founding members of La Liga in 1929, and is one of three clubs, along with FC Barcelona and Athletic Bilbao, to have never been relegated from the league. Since then, the club's first team has competed in numerous nationally and internationally organized competitions. Real is the most successful club in Spanish football, having won 71 domestic titles; a record 36 La Liga titles, 20 Spanish Cups, 13 Spanish Super Cups, 1 Copa Eva Duarte, and 1 League Cup. Real is the most successful club in European and international football, having won 29 official UEFA and FIFA trophies in total.\n",
      "Raúl holds the record for most overall appearances, having played 741 from 1994 to 2010, ahead of Iker Casillas, who made 725 appearances from 1999 to 2015. Manuel Sanchís, Jr is third with 710 appearances from 1983 to 2001 for the club. Cristiano Ronaldo is the all-time top scorer with 450 goals in 438 appearances from 2009 to 2018. He holds the record for the most goals in a season for Real Madrid, Ronaldo scored 61 in all competitions during the 2014–15 season and also holds the record for second most league goals scored in a season in La Liga, with 48 goals in 2014–15 La Liga. Karim Benzema is the second-highest scorer with 354 goals, having overtaken Raúl, who is third with 323 goals, in August 2022.\n",
      "Real Madrid has employed numerous famous players, with four FIFA World Player of the Year, ten Ballon d'Or, two FIFA Ballon d'Or, four European Golden Shoe and three FIFA Club World Cup Golden Ball winners among the previous and current club players.\n",
      "The list includes notable footballers who have played for Real Madrid. Generally, this means players that have played at least 50 official matches. However, some players who have played fewer matches are also included if they are on Real's list of Legendary Players.\n",
      "\n",
      "\u001b[0m\u001b[32;1m\u001b[1;3mThe record for the most goals scored in a single season in La Liga is held by Lionel Messi with 50 goals in the 2011-2012 campaign.\u001b[0m\n",
      "\n",
      "\u001b[1m> Finished chain.\u001b[0m\n",
      "{'input': 'Highest goals in a single season of La Liga', 'chat_history': [], 'output': 'The record for the most goals scored in a single season in La Liga is held by Lionel Messi with 50 goals in the 2011-2012 campaign.'}\n",
      "Tokens Used: 1157\n",
      "\tPrompt Tokens: 1101\n",
      "\tCompletion Tokens: 56\n",
      "Successful Requests: 2\n",
      "Total Cost (USD): $0.0017635\n"
     ]
    }
   ],
   "source": [
    "with get_openai_callback() as cb:\n",
    "    out = agent_executor.invoke({\"input\": \"Highest goals in a single season of La Liga\", \"chat_history\": chat_history})\n",
    "print(out)\n",
    "print(cb)"
   ]
  },
  {
   "cell_type": "code",
   "execution_count": 13,
   "id": "ef46acfe-b323-4233-95be-4d4eba9f47c7",
   "metadata": {},
   "outputs": [
    {
     "name": "stdout",
     "output_type": "stream",
     "text": [
      "[HumanMessage(content='Highest goals in a single season of La Liga'), AIMessage(content='The record for the most goals scored in a single season in La Liga is held by Lionel Messi with 50 goals in the 2011-2012 campaign.')]\n",
      "\n",
      "\n",
      "\u001b[1m> Entering new AgentExecutor chain...\u001b[0m\n",
      "\u001b[32;1m\u001b[1;3m\n",
      "Invoking: `wikipedia` with `Lionel Messi`\n",
      "\n",
      "\n",
      "\u001b[0m\u001b[36;1m\u001b[1;3mPage: Lionel Messi\n",
      "Summary: Lionel Andrés \"Leo\" Messi (Spanish pronunciation: [ljoˈnel anˈdɾes ˈmesi] ; born 24 June 1987) is an Argentine professional footballer who plays as a forward for and captains both Major League Soccer club Inter Miami and the Argentina national team. Widely regarded as one of the greatest players of all time, Messi has won a record eight Ballon d'Or awards, a record six European Golden Shoes, and was named the world's best player for a record eight times by FIFA. Until 2021, he had spent his entire professional career with Barcelona, where he won a club-record 34 trophies, including ten La Liga titles, seven Copa del Rey titles, and the UEFA Champions League four times. With his country, he won the 2021 Copa América and the 2022 FIFA World Cup. A prolific goalscorer and creative playmaker, Messi holds the records for most goals (474), hat-tricks (36), and assists in La Liga (192). He has the most international goals by a South American male (106). Messi has scored over 800 senior career goals for club and country, and the most goals for a single club (672).\n",
      "Messi relocated to Spain and joined Barcelona aged 13, making his competitive debut at age 17 in October 2004. He established himself as an integral player for the club within the next three years, and in his first uninterrupted season in 2008–09 helped Barcelona achieve the first treble in Spanish football; that year, aged 22, Messi won his first Ballon d'Or. Messi won four consecutive Ballons d'Or, the first player to win it four times. During the 2011–12 season, he set La Liga and European records for most goals in a season, while establishing himself as Barcelona's all-time top scorer. The following two seasons, he finished second for the Ballon d'Or behind Cristiano Ronaldo, his perceived career rival, before regaining his best form during the 2014–15 campaign, becoming the all-time top scorer in La Liga and leading Barcelona to a historic second treble, and was awarded a fifth Ballon d'Or in 2015. Messi assumed captaincy of Barcelona in 2018, and won a record sixth Ballon d'Or in 2019. He signed for French club Paris Saint-Germain in August 2021, spending two seasons there and winning Ligue 1 twice. Messi joined American club Inter Miami in July 2023, winning the Leagues Cup in August.\n",
      "An Argentine international, Messi is the country's all-time leading goalscorer and holds the national record for appearances. At youth level, he won the 2005 FIFA World Youth Championship and gold at the 2008 Summer Olympics. His style of play as a diminutive, left-footed dribbler drew comparisons with compatriot Diego Maradona, who described Messi as his successor. After his senior debut in 2005, Messi became the youngest Argentine to play and score in a FIFA World Cup (2006). As the squad's captain from 2011, he led Argentina to three consecutive finals: the 2014 FIFA World Cup, the 2015 Copa América and the 2016 Copa América. After announcing his international retirement in 2016, he reversed this and led his country to qualification for the 2018 FIFA World Cup and victory in the 2021 Copa América. He led Argentina to win the 2022 FIFA World Cup, where he won a record second Golden Ball, scored seven goals including two in the final, and broke the record for most games played at the World Cup (26), later receiving his record-extending eighth Ballon d'Or in 2023.\n",
      "Messi has endorsed sportswear company Adidas since 2006. According to France Football, he was the world's highest-paid footballer for five years out of six between 2009 and 2014, and was ranked the world's highest-paid athlete by Forbes in 2019 and 2022. Messi was among Time's 100 most influential people in the world in 2011, 2012, and 2023. In 2020 and 2023, he was named the Laureus World Sportsman of the Year, the first team-sport athlete to win it. In 2020, Messi was named to the Ballon d'Or Dream Team and became the second footballer and second team-sport athlete to surpass $1 billion in career e\u001b[0m\u001b[32;1m\u001b[1;3mLionel Messi has scored a total of 474 goals in La Liga.\u001b[0m\n",
      "\n",
      "\u001b[1m> Finished chain.\u001b[0m\n"
     ]
    },
    {
     "data": {
      "text/plain": [
       "{'input': 'How many goals he has scored overall in L Liga?',\n",
       " 'chat_history': [HumanMessage(content='Highest goals in a single season of La Liga'),\n",
       "  AIMessage(content='The record for the most goals scored in a single season in La Liga is held by Lionel Messi with 50 goals in the 2011-2012 campaign.')],\n",
       " 'output': 'Lionel Messi has scored a total of 474 goals in La Liga.'}"
      ]
     },
     "execution_count": 13,
     "metadata": {},
     "output_type": "execute_result"
    }
   ],
   "source": [
    "chat_history.extend(\n",
    "    [\n",
    "        HumanMessage(content=\"Highest goals in a single season of La Liga\"),\n",
    "        AIMessage(content=out[\"output\"]),\n",
    "    ]\n",
    ")\n",
    "\n",
    "print(chat_history)\n",
    "agent_executor.invoke({\"input\": \"How many goals he has scored overall in L Liga?\", \"chat_history\": chat_history})"
   ]
  },
  {
   "cell_type": "markdown",
   "id": "9078a63f",
   "metadata": {},
   "source": [
    "Showcase in Gradio"
   ]
  },
  {
   "cell_type": "code",
   "execution_count": 14,
   "id": "b1e1b2c4-f73c-4f41-897d-692cde5bd029",
   "metadata": {},
   "outputs": [],
   "source": [
    "import gradio as gr"
   ]
  },
  {
   "cell_type": "code",
   "execution_count": 15,
   "id": "96f03138",
   "metadata": {},
   "outputs": [],
   "source": [
    "agent_history = []\n",
    "def call_agent(query, chat_history):\n",
    "    print(\"Chat history : \", chat_history)\n",
    "    output = agent_executor.invoke({\"input\": query, \"chat_history\": agent_history})\n",
    "\n",
    "    agent_history.extend(\n",
    "    [\n",
    "        HumanMessage(content=\"Highest goals in a single season of La Liga\"),\n",
    "        AIMessage(content=out[\"output\"]),\n",
    "    ]\n",
    "    )\n",
    "\n",
    "\n",
    "    chat_history += [\n",
    "        [\n",
    "            \"<b>Question: </b>\" + query,\n",
    "            \"<b>Answer: </b>\" + output[\"output\"]\n",
    "        ]\n",
    "    ]\n",
    "\n",
    "\n",
    "    return output[\"output\"], chat_history"
   ]
  },
  {
   "cell_type": "code",
   "execution_count": 16,
   "id": "91ca427c",
   "metadata": {},
   "outputs": [
    {
     "name": "stdout",
     "output_type": "stream",
     "text": [
      "Running on local URL:  http://127.0.0.1:7860\n",
      "\n",
      "To create a public link, set `share=True` in `launch()`.\n"
     ]
    },
    {
     "data": {
      "text/html": [
       "<div><iframe src=\"http://127.0.0.1:7860/\" width=\"100%\" height=\"500\" allow=\"autoplay; camera; microphone; clipboard-read; clipboard-write;\" frameborder=\"0\" allowfullscreen></iframe></div>"
      ],
      "text/plain": [
       "<IPython.core.display.HTML object>"
      ]
     },
     "metadata": {},
     "output_type": "display_data"
    },
    {
     "data": {
      "text/plain": []
     },
     "execution_count": 16,
     "metadata": {},
     "output_type": "execute_result"
    },
    {
     "name": "stdout",
     "output_type": "stream",
     "text": [
      "IMPORTANT: You are using gradio version 3.38.0, however version 4.29.0 is available, please upgrade.\n",
      "--------\n",
      "Chat history :  []\n",
      "\n",
      "\n",
      "\u001b[1m> Entering new AgentExecutor chain...\u001b[0m\n",
      "\u001b[32;1m\u001b[1;3m\n",
      "Invoking: `wikipedia` with `Most goals scored in a single season of La Liga`\n",
      "\n",
      "\n",
      "\u001b[0m\u001b[36;1m\u001b[1;3mPage: List of La Liga top scorers\n",
      "Summary: La Liga all-time top scorer is Lionel Messi with 474 goals, all for Barcelona. He also holds the record for most goals scored in a single season with 50 in the 2011–12 campaign, and is the only player ever to win the league's top scorer award in eight different seasons. Athletic Bilbao's Telmo Zarra, who was the competition's all-time top scorer for sixty years until 2014, won the top scorer award six times. Three other players — Real Madrid's Alfredo Di Stéfano, Quini of Sporting Gijón and Barcelona, and Hugo Sánchez of Atlético Madrid and Real Madrid — each finished as top scorer in five individual seasons. \n",
      "Alfredo Di Stéfano was the first non-European player to score a hundred La Liga goals, though he was a naturalised Spanish citizen by the time he reached the milestone in 1957. Hugo Sánchez became the first North American in 1986 and Samuel Eto'o was the first African to score 100 La Liga goals in 2006.\n",
      "The most recent player to score 100 goals in the league is Gerard Moreno, who scored his centennial goal in January 2022. Of active players, Cristhian Stuani is closest to making this list, having scored 99 La Liga goals.\n",
      "\n",
      "Page: La Liga records and statistics\n",
      "Summary: The La Liga is a Spanish professional league for association football club. At the top of the Spanish football league system, it is the country's primary football competition and is contested by 20 clubs. The competition was formed in 1929, with an initial format of 10 teams.\n",
      "\n",
      "Page: List of footballers with the most goals in a single game\n",
      "Summary: This is a list of players with the most goals in a football game. The list only includes players who have scored the most multiple goals in first class or fully professional matches for country or club.\n",
      "The current world record for an international is held by Archie Thompson, who scored 13 goals against American Samoa in Australia's 31–0 victory during the 2002 FIFA World Cup qualification. David Zdrilic scored 8 goals.\n",
      "In November 2022, Shokhan Nooraldin Salihi scored 15 goals in the match of Al-Hilal against Sama in the 2022–23 Saudi Women's Premier League. In this match, Al-Hilal beat Sama 18–0. She broke the previous record of Hacène Lalmas and Malika-e-Noor for most goals in any top-flight match with 14 each.\n",
      "In the most prolific European football leagues, the Premier League (and the Football League First Division before it), La Liga, Serie A and the Bundesliga, the top scorers per game have much lower tallies: seven in England and Spain and six in Italy and Germany. The last player in these leagues to score seven goals in a match was László Kubala in 1952 for Barcelona.\n",
      "\n",
      "\u001b[0m\u001b[32;1m\u001b[1;3mThe most number of goals scored in a single season of La Liga is 50, achieved by Lionel Messi in the 2011-12 campaign.\u001b[0m\n",
      "\n",
      "\u001b[1m> Finished chain.\u001b[0m\n",
      "Chat history :  [['<b>Question: </b>Most number of goals scored in a single season of La Liga', '<b>Answer: </b>The most number of goals scored in a single season of La Liga is 50, achieved by Lionel Messi in the 2011-12 campaign.']]\n",
      "\n",
      "\n",
      "\u001b[1m> Entering new AgentExecutor chain...\u001b[0m\n",
      "\u001b[32;1m\u001b[1;3m\n",
      "Invoking: `wikipedia` with `Lionel Messi`\n",
      "\n",
      "\n",
      "\u001b[0m\u001b[36;1m\u001b[1;3mPage: Lionel Messi\n",
      "Summary: Lionel Andrés \"Leo\" Messi (Spanish pronunciation: [ljoˈnel anˈdɾes ˈmesi] ; born 24 June 1987) is an Argentine professional footballer who plays as a forward for and captains both Major League Soccer club Inter Miami and the Argentina national team. Widely regarded as one of the greatest players of all time, Messi has won a record eight Ballon d'Or awards, a record six European Golden Shoes, and was named the world's best player for a record eight times by FIFA. Until 2021, he had spent his entire professional career with Barcelona, where he won a club-record 34 trophies, including ten La Liga titles, seven Copa del Rey titles, and the UEFA Champions League four times. With his country, he won the 2021 Copa América and the 2022 FIFA World Cup. A prolific goalscorer and creative playmaker, Messi holds the records for most goals (474), hat-tricks (36), and assists in La Liga (192). He has the most international goals by a South American male (106). Messi has scored over 800 senior career goals for club and country, and the most goals for a single club (672).\n",
      "Messi relocated to Spain and joined Barcelona aged 13, making his competitive debut at age 17 in October 2004. He established himself as an integral player for the club within the next three years, and in his first uninterrupted season in 2008–09 helped Barcelona achieve the first treble in Spanish football; that year, aged 22, Messi won his first Ballon d'Or. Messi won four consecutive Ballons d'Or, the first player to win it four times. During the 2011–12 season, he set La Liga and European records for most goals in a season, while establishing himself as Barcelona's all-time top scorer. The following two seasons, he finished second for the Ballon d'Or behind Cristiano Ronaldo, his perceived career rival, before regaining his best form during the 2014–15 campaign, becoming the all-time top scorer in La Liga and leading Barcelona to a historic second treble, and was awarded a fifth Ballon d'Or in 2015. Messi assumed captaincy of Barcelona in 2018, and won a record sixth Ballon d'Or in 2019. He signed for French club Paris Saint-Germain in August 2021, spending two seasons there and winning Ligue 1 twice. Messi joined American club Inter Miami in July 2023, winning the Leagues Cup in August.\n",
      "An Argentine international, Messi is the country's all-time leading goalscorer and holds the national record for appearances. At youth level, he won the 2005 FIFA World Youth Championship and gold at the 2008 Summer Olympics. His style of play as a diminutive, left-footed dribbler drew comparisons with compatriot Diego Maradona, who described Messi as his successor. After his senior debut in 2005, Messi became the youngest Argentine to play and score in a FIFA World Cup (2006). As the squad's captain from 2011, he led Argentina to three consecutive finals: the 2014 FIFA World Cup, the 2015 Copa América and the 2016 Copa América. After announcing his international retirement in 2016, he reversed this and led his country to qualification for the 2018 FIFA World Cup and victory in the 2021 Copa América. He led Argentina to win the 2022 FIFA World Cup, where he won a record second Golden Ball, scored seven goals including two in the final, and broke the record for most games played at the World Cup (26), later receiving his record-extending eighth Ballon d'Or in 2023.\n",
      "Messi has endorsed sportswear company Adidas since 2006. According to France Football, he was the world's highest-paid footballer for five years out of six between 2009 and 2014, and was ranked the world's highest-paid athlete by Forbes in 2019 and 2022. Messi was among Time's 100 most influential people in the world in 2011, 2012, and 2023. In 2020 and 2023, he was named the Laureus World Sportsman of the Year, the first team-sport athlete to win it. In 2020, Messi was named to the Ballon d'Or Dream Team and became the second footballer and second team-sport athlete to surpass $1 billion in career e\u001b[0m\u001b[32;1m\u001b[1;3mLionel Messi has scored a total of 474 goals in La Liga.\u001b[0m\n",
      "\n",
      "\u001b[1m> Finished chain.\u001b[0m\n"
     ]
    }
   ],
   "source": [
    "with gr.Blocks() as demo:\n",
    "    chatbot = gr.Chatbot(label = \"QnA with Wikipedia\")\n",
    "    question = gr.Textbox(label = \"Ask you query here\")\n",
    "\n",
    "    with gr.Row():\n",
    "        submit = gr.Button(\"Submit\")\n",
    "        clear = gr.ClearButton([chatbot, question])\n",
    "\n",
    "    def user(user_message, history):\n",
    "\n",
    "        bot_message, history = call_agent(user_message, history)\n",
    "\n",
    "        return \"\", history\n",
    "\n",
    "    question.submit(user, [question, chatbot], [question, chatbot], queue=False)\n",
    "    submit.click(user, [question, chatbot], [question, chatbot], queue=False)\n",
    "    \n",
    "demo.queue()\n",
    "demo.launch()"
   ]
  },
  {
   "cell_type": "code",
   "execution_count": null,
   "id": "6888db3b",
   "metadata": {},
   "outputs": [],
   "source": []
  }
 ],
 "metadata": {
  "kernelspec": {
   "display_name": "Python 3 (ipykernel)",
   "language": "python",
   "name": "python3"
  },
  "language_info": {
   "codemirror_mode": {
    "name": "ipython",
    "version": 3
   },
   "file_extension": ".py",
   "mimetype": "text/x-python",
   "name": "python",
   "nbconvert_exporter": "python",
   "pygments_lexer": "ipython3",
   "version": "3.9.17"
  }
 },
 "nbformat": 4,
 "nbformat_minor": 5
}
