{
 "cells": [
  {
   "cell_type": "markdown",
   "id": "971f9e9c-ed09-464f-ad32-cfe145e5cdfb",
   "metadata": {},
   "source": [
    "1. Import the LLM\n",
    "2. Import Tool\n",
    "3. Bind tool to LLM\n",
    "4. Prompt Template\n",
    "5. Create a Custom Agent"
   ]
  },
  {
   "cell_type": "markdown",
   "id": "f35b6aca-c0db-4147-8c0c-6e97e2e51fba",
   "metadata": {},
   "source": [
    "## Import LLM"
   ]
  },
  {
   "cell_type": "code",
   "execution_count": 3,
   "id": "2e93c370-6b00-4f29-bf57-7eb4775ccda8",
   "metadata": {},
   "outputs": [],
   "source": [
    "from langchain_openai import ChatOpenAI\n",
    "import os\n",
    "\n",
    "llm = ChatOpenAI(model=\"gpt-3.5-turbo\", \n",
    "                 temperature=0, \n",
    "                 openai_api_key=os.environ.get(\"OPENAI_API_KEY\"))"
   ]
  },
  {
   "cell_type": "code",
   "execution_count": 2,
   "id": "e1bdb8d9-7be4-48f1-b84c-a46bdf8c9acb",
   "metadata": {},
   "outputs": [
    {
     "data": {
      "text/plain": [
       "AIMessage(content=\"I'm sorry, but I cannot provide real-time information as I do not have access to the internet. Please check the latest sports news or visit a reliable sports website for the most up-to-date information on the match between RCB and CSK on 18th May 2024.\", response_metadata={'token_usage': {'completion_tokens': 58, 'prompt_tokens': 26, 'total_tokens': 84}, 'model_name': 'gpt-3.5-turbo', 'system_fingerprint': None, 'finish_reason': 'stop', 'logprobs': None}, id='run-257b8c2d-910d-40e4-a726-6e264d7f2895-0')"
      ]
     },
     "execution_count": 2,
     "metadata": {},
     "output_type": "execute_result"
    }
   ],
   "source": [
    "llm.invoke(\"Who won the match between RCB vs CSK on 18th may 2024?\")"
   ]
  },
  {
   "cell_type": "code",
   "execution_count": 3,
   "id": "6645893f-247b-4860-be0e-ac84158845a8",
   "metadata": {},
   "outputs": [
    {
     "data": {
      "text/plain": [
       "\"I'm sorry, but as an AI, I do not have real-time information. Please check the latest updates on the UEFA Champions League 2024 to find out which two teams are in the finals.\""
      ]
     },
     "execution_count": 3,
     "metadata": {},
     "output_type": "execute_result"
    }
   ],
   "source": [
    "llm.invoke(\"Which two teams are in the finals of UEFA champions league 2024?\").content"
   ]
  },
  {
   "cell_type": "markdown",
   "id": "7ba01152-1f37-4a6f-a583-3d4409328e06",
   "metadata": {},
   "source": [
    "## Import Tool"
   ]
  },
  {
   "cell_type": "code",
   "execution_count": 4,
   "id": "e156ef54-a2a0-43b8-a0f5-10248065e1e2",
   "metadata": {},
   "outputs": [],
   "source": [
    "# !pip install google-api-python-client\n",
    "# !pip install -U langchain-google-community"
   ]
  },
  {
   "cell_type": "code",
   "execution_count": 1,
   "id": "02fe9f58-626e-4bb0-af13-625c277f6085",
   "metadata": {},
   "outputs": [],
   "source": [
    "from langchain_google_community import GoogleSearchRun, GoogleSearchAPIWrapper"
   ]
  },
  {
   "cell_type": "code",
   "execution_count": 2,
   "id": "1d6fe0d4-2fc3-472f-98e0-274cfd762ca2",
   "metadata": {},
   "outputs": [],
   "source": [
    "wrapper = GoogleSearchAPIWrapper(google_api_key=os.environ.get(\"GOOGLE_API_KEY\"), google_cse_id = os.environ.get(\"GOOGLE_CSE_ID\"))\n",
    "google_search = GoogleSearchRun(api_wrapper = wrapper)"
   ]
  },
  {
   "cell_type": "code",
   "execution_count": 5,
   "id": "572362b6-c9fc-4b96-b7d8-8905d2221591",
   "metadata": {},
   "outputs": [],
   "source": [
    "# print(google_search.invoke(\"Who won the match between RCB vs CSK on 18th may 2024?\"))"
   ]
  },
  {
   "cell_type": "code",
   "execution_count": 8,
   "id": "0848802b-a78d-4c57-903f-2f797c01b05e",
   "metadata": {},
   "outputs": [
    {
     "name": "stdout",
     "output_type": "stream",
     "text": [
      "Live Cricket Scoreboard: Get Royal Challengers Bengaluru vs Chennai Super Kings 68th Match, cricket scorecard, Indian Premier League 2024 dated May 18, ... Debut/Last Matches of Yash Dayal ; Debut. Maharashtra vs UP at Delhi- February 21, 2019 ; Last. RCB vs CSK at Bengaluru- May 18, 2024. Find out where and when 2024 IPL matches are being played and follow along for the latest updates. Indian Premier League 2024 Matches. RCB vs CSK - 1st Match|DC ... - He was the Player of the Match in CSK's thrilling win ... Timeout crew on CSK's clever use of bowling partnerships. May 04, 2024 ... of their seats. RCB vs CSK ... His tidy bowling helped RCB win their last six matches to qualify for the playoffs. ... 17-May-2024, Bengaluru ... RCB vs CSK at Bengaluru- May 18, 2024 · View more ... Recent Matches of Virat Kohli ; RCB vs CSK, 47, 17-May-2024, Bengaluru · T20 ; RCB vs DC, 27, 11-May-2024, Bengaluru · T20. Recent Matches of Dinesh Karthik. Match, Bat, Wkt, Date, Ground, Format. RCB vs CSK, 14, 0c/0s, 17-May-2024, Bengaluru · T20 · RCB vs DC, 0, 0c/0s, 11-May-2024 ... T20 Matches. Debut. Baroda vs Mumbai at Wankhede- April 03, 2007 · Last. RCB vs CSK at Bengaluru- May 18, 2024 · View more. Videos of Ajinkya Rahane. Can Rahane ... All the stats highlights from a stunning match 68 of IPL 2024 where RCB beat CSK by 27 runs. 18-May-2024•Sampath Bandarupalli ... T20 Matches. Debut. Eagles vs Titans at Centurion- February 25, 2007 · Last. RCB vs CSK at Bengaluru- May 18, 2024 · View more. Videos of Faf du Plessis. Moody ...\n"
     ]
    }
   ],
   "source": [
    "print(google_search.invoke(\"site:cricinfo.com Who won the match between RCB vs CSK on 18th may 2024?\"))"
   ]
  },
  {
   "cell_type": "markdown",
   "id": "915914b2-4ce4-4c39-bda7-25322d3b9db9",
   "metadata": {},
   "source": [
    "## Bind tool to LLM"
   ]
  },
  {
   "cell_type": "code",
   "execution_count": 9,
   "id": "02bde9af-c9c0-4168-b1d1-0f8f8e780a9e",
   "metadata": {},
   "outputs": [],
   "source": [
    "tools = [google_search]"
   ]
  },
  {
   "cell_type": "code",
   "execution_count": 10,
   "id": "9988f86d-b0eb-4f95-ac54-210b842569d0",
   "metadata": {},
   "outputs": [],
   "source": [
    "llm_with_tools = llm.bind_tools(tools)"
   ]
  },
  {
   "cell_type": "markdown",
   "id": "525ff478-6e74-4c66-9c1d-9c55abb220bd",
   "metadata": {},
   "source": [
    "## Prompt Template"
   ]
  },
  {
   "cell_type": "code",
   "execution_count": 11,
   "id": "747c195c-343e-4ac7-862c-603be6c59ecc",
   "metadata": {},
   "outputs": [],
   "source": [
    "from langchain_core.prompts import ChatPromptTemplate, MessagesPlaceholder\n",
    "\n",
    "prompt = ChatPromptTemplate.from_messages(\n",
    "    [\n",
    "        (\n",
    "            \"system\",\n",
    "            \"You are very powerful assistant, designed to answer the current events with the help of provided tools.\",\n",
    "        ),\n",
    "        (\"user\", \"{input}\"),\n",
    "        MessagesPlaceholder(variable_name=\"agent_scratchpad\"),\n",
    "    ]\n",
    ")"
   ]
  },
  {
   "cell_type": "markdown",
   "id": "5966cd05-ead8-4774-bd26-5aaff19efc09",
   "metadata": {},
   "source": [
    "## Create Custom Agent"
   ]
  },
  {
   "cell_type": "code",
   "execution_count": 12,
   "id": "fab580d8-6d7c-4129-a6ed-656bd4165b4a",
   "metadata": {},
   "outputs": [],
   "source": [
    "from langchain.agents.format_scratchpad.openai_tools import (\n",
    "    format_to_openai_tool_messages,\n",
    ")\n",
    "from langchain.agents.output_parsers.openai_tools import OpenAIToolsAgentOutputParser\n",
    "\n",
    "agent = (\n",
    "    {\n",
    "        \"input\": lambda x: x[\"input\"],\n",
    "        \"agent_scratchpad\": lambda x: format_to_openai_tool_messages(\n",
    "            x[\"intermediate_steps\"]\n",
    "        ),\n",
    "    }\n",
    "    | prompt\n",
    "    | llm_with_tools\n",
    "    | OpenAIToolsAgentOutputParser()\n",
    ")"
   ]
  },
  {
   "cell_type": "code",
   "execution_count": 13,
   "id": "f989ee07-1c8e-4523-86b2-28fccaa7f96e",
   "metadata": {},
   "outputs": [],
   "source": [
    "from langchain.callbacks import get_openai_callback"
   ]
  },
  {
   "cell_type": "code",
   "execution_count": 14,
   "id": "fd696767-926a-43cb-8756-d3ae4047d8d7",
   "metadata": {},
   "outputs": [],
   "source": [
    "from langchain.agents import AgentExecutor\n",
    "\n",
    "agent_executor = AgentExecutor(agent=agent, tools=tools, verbose=True, stream_runnable = False)"
   ]
  },
  {
   "cell_type": "code",
   "execution_count": 15,
   "id": "24f8c6a9-7a3f-4f2b-b43e-188b24bf4468",
   "metadata": {},
   "outputs": [
    {
     "name": "stdout",
     "output_type": "stream",
     "text": [
      "\n",
      "\n",
      "\u001b[1m> Entering new AgentExecutor chain...\u001b[0m\n",
      "\u001b[32;1m\u001b[1;3m\n",
      "Invoking: `google_search` with `RCB vs CSK 18th May 2024 match result`\n",
      "\n",
      "\n",
      "\u001b[0m\u001b[36;1m\u001b[1;3m4 days ago ... BENGALURU WIN BY 27 RUNS AND MAKES IT TO THE PLAYOFFS! 0. 19.5. Yash Dayal to Ravindra Jadeja, no run. Redemption for Yash ... 4 days ago ... RCB Vs CSK Live Score: RCB post 218/5, need to restrict CSK below 200 to qualify for playoffs. RCB Vs CSK Live Score: In a do-or-die match, ... 3 days ago ... RCB vs CSK Live Score, IPL 2024: Bengaluru 218/5 vs Chennai Super Kings. Glenn Maxwell came in and he did his part as well in that final over. 4 days ago ... All of it summed up the drama of the night in Bengaluru, as Royal Challengers Bengaluru (RCB) won their sixth game on the trot in IPL 2024 to ... 4 days ago ... Rcb vs csk p1 annexe one physical ticket available at 16k dm for details. Upvote 4 days ago ... Aaarrrr Ceeeee Beeeeee in IPL 2024 playoffs. Yash Dayal bowled a superb final over, Royal Challengers Bengaluru vs Chennai Super Kings,. 4 days ago ... This has been nothing short of a miracle for RCB, which has now won its sixth game in a row to make it to the last-four stage. May 18, 2024 23: ... Apr 2, 2024 ... I have 2 tickets for RCB vs GT IPL match on 4th May at Bengaluru. Unfortunately I can't attend it. Hence giving those tickets at the booking ... 4 days ago ... Today Match in IPL 2024: Get here all match details about RCB vs CSK Match (18 May, Match Number - 68) along with head to head, players list ... 5 days ago ... 175 votes, 24 comments. 139K subscribers in the RCB community. WPL 2024 Champions!! Welcome to /r/RCB! The heart of RCB fandom!\u001b[0m\u001b[32;1m\u001b[1;3mRoyal Challengers Bangalore (RCB) won the match against Chennai Super Kings (CSK) on 18th May 2024.\u001b[0m\n",
      "\n",
      "\u001b[1m> Finished chain.\u001b[0m\n",
      "{'input': 'Who won the match between RCB vs CSK on 18th may 2024?', 'output': 'Royal Challengers Bangalore (RCB) won the match against Chennai Super Kings (CSK) on 18th May 2024.'}\n",
      "Tokens Used: 760\n",
      "\tPrompt Tokens: 702\n",
      "\tCompletion Tokens: 58\n",
      "Successful Requests: 2\n",
      "Total Cost (USD): $0.001169\n"
     ]
    }
   ],
   "source": [
    "with get_openai_callback() as cb:\n",
    "    out = agent_executor.invoke({\"input\": \"Who won the match between RCB vs CSK on 18th may 2024?\"})\n",
    "print(out)\n",
    "print(cb)"
   ]
  },
  {
   "cell_type": "code",
   "execution_count": 16,
   "id": "0f762487-3dcd-4a81-8575-52c7c89c7db3",
   "metadata": {},
   "outputs": [
    {
     "name": "stdout",
     "output_type": "stream",
     "text": [
      "\n",
      "\n",
      "\u001b[1m> Entering new AgentExecutor chain...\u001b[0m\n",
      "\u001b[32;1m\u001b[1;3m\n",
      "Invoking: `google_search` with `UEFA Champions League 2024 finals teams`\n",
      "\n",
      "\n",
      "\u001b[0m\u001b[36;1m\u001b[1;3mMay 10, 2024 ... Next season's final will take place at the Fussball Arena München in Munich, Germany, on Saturday 31 May. © 1998-2024 UEFA. All rights reserved. It will be held at Wembley Stadium in London, England, on 1 June 2024, between German club Borussia Dortmund and Spanish club Real Madrid. Due to the ... 2 days ago ... Domestic qualifiers as it stands ; England (4) · Man City · Arsenal ; Spain (4) · Real Madrid · Barcelona ; Germany (4) · Leverkusen · Stuttgart ; Italy ( ... They will also qualify for the final of the brand-new 2024 FIFA Intercontinental Cup and the expanded 2025 FIFA Club World Cup in the United States. This is the ... Apr 16, 2024 ... UEFA Champions League quarterfinal draw 2024 in full ; Arsenal vs Bayern Munich, Arsenal 2-2 Bayern, April 17 ; Atletico Madrid 4-5 Borussia ... Mar 12, 2024 ... Quarterfinal, semifinal, final dates. The Champions League is narrowing to the final few teams. By Sanjesh Singh • Published March 12, 2024 ... May 8, 2024 ... Where is the UEFA Champions League final in 2024? ... A return to Wembley will see the European Cup/Champions League final held at the stadium ( ... ... finals. This ... UEFA Champions League Final 2024 will not be available before April 2024. ... The UEFA Champions League final: the biggest night in club football. Mar 15, 2024 ... And also, as always, we'll get 1/2 the team injured in the national teams break. The official website of the Basketball Champions League 2024. Competition schedule, results, stats, teams and players profile, news, games highlights, ...\u001b[0m\u001b[32;1m\u001b[1;3mThe two teams in the finals of the UEFA Champions League 2024 are Borussia Dortmund from Germany and Real Madrid from Spain.\u001b[0m\n",
      "\n",
      "\u001b[1m> Finished chain.\u001b[0m\n",
      "{'input': 'Which two teams are in the finals of UEFA champions league 2024?', 'output': 'The two teams in the finals of the UEFA Champions League 2024 are Borussia Dortmund from Germany and Real Madrid from Spain.'}\n",
      "Tokens Used: 695\n",
      "\tPrompt Tokens: 644\n",
      "\tCompletion Tokens: 51\n",
      "Successful Requests: 2\n",
      "Total Cost (USD): $0.0010680000000000002\n"
     ]
    }
   ],
   "source": [
    "with get_openai_callback() as cb:\n",
    "    out = agent_executor.invoke({\"input\": \"Which two teams are in the finals of UEFA champions league 2024?\"})\n",
    "print(out)\n",
    "print(cb)"
   ]
  },
  {
   "cell_type": "code",
   "execution_count": null,
   "id": "94fbac93-f136-4a77-acb7-1cb6503e1524",
   "metadata": {},
   "outputs": [],
   "source": []
  }
 ],
 "metadata": {
  "kernelspec": {
   "display_name": "Python 3 (ipykernel)",
   "language": "python",
   "name": "python3"
  },
  "language_info": {
   "codemirror_mode": {
    "name": "ipython",
    "version": 3
   },
   "file_extension": ".py",
   "mimetype": "text/x-python",
   "name": "python",
   "nbconvert_exporter": "python",
   "pygments_lexer": "ipython3",
   "version": "3.9.17"
  }
 },
 "nbformat": 4,
 "nbformat_minor": 5
}
